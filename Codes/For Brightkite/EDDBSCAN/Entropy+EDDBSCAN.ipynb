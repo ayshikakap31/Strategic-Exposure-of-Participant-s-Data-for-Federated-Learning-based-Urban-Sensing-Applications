{
 "cells": [
  {
   "cell_type": "code",
   "execution_count": 1,
   "id": "df7342de",
   "metadata": {},
   "outputs": [],
   "source": [
    "#Import the libraries\n",
    "import pandas as pd, numpy as np, matplotlib.pyplot as plt, time\n",
    "import geopandas as gpd\n",
    "from sklearn.cluster import DBSCAN\n",
    "from sklearn import metrics\n",
    "from geopy.distance import great_circle\n",
    "from shapely.geometry import MultiPoint\n",
    "from itertools import groupby\n",
    "import os, os.path\n",
    "from sklearn.preprocessing import MinMaxScaler\n",
    "from sklearn import preprocessing\n",
    "from sklearn.metrics import davies_bouldin_score"
   ]
  },
  {
   "cell_type": "code",
   "execution_count": 2,
   "id": "c6927ed5",
   "metadata": {},
   "outputs": [],
   "source": [
    "# define the number of kilometers in one radian\n",
    "kms_per_radian = 6371.0088\n",
    "filename = 'user_301_latlontime.csv'\n",
    "df = pd.read_csv(filename, encoding='utf-8')\n",
    "# represent points consistently as (Latitude, Longitude)\n",
    "coords = df[['Latitude', 'Longitude']].to_numpy()\n",
    "user_time = user_time = df['Time'].values.tolist()\n",
    "# define epsilon as 0.05 kilometers, converted to radians for use by haversine\n",
    "#epsilon = 10 / kms_per_radian\n",
    "epsilon = 0.1"
   ]
  },
  {
   "cell_type": "code",
   "execution_count": 3,
   "id": "dca23c7b",
   "metadata": {},
   "outputs": [],
   "source": [
    "# To find minPoints using merge-sort algorithm\n",
    "l=1\n",
    "r=len(coords)\n",
    "v=[]\n",
    "w=[]\n",
    "def divide(l, r):\n",
    "    if l<r:\n",
    "        m = l+(r-l)//2\n",
    "        try:\n",
    "            sil_score, num_clusters = cal(m, epsilon)\n",
    "            if sil_score not in v and num_clusters>0:\n",
    "                v.append(sil_score)\n",
    "                w.append(m)\n",
    "                divide(l, m)\n",
    "        except ValueError:\n",
    "            divide(l, m)\n",
    "    else:\n",
    "        return\n",
    "def cal(m,epsilon):\n",
    "    db = DBSCAN(eps=epsilon, min_samples=m, algorithm='ball_tree', metric='haversine').fit(np.radians(coords))\n",
    "    sil_score = metrics.silhouette_score(coords, db.labels_)\n",
    "    num_clusters = len(set(db.labels_)) #- (1 if -1 in db.labels_ else 0)\n",
    "    return [sil_score, num_clusters]\n",
    "divide(l,r)\n",
    "max_i = max(v)\n",
    "max_i_index = v.index(max_i)\n",
    "min_point = w[max_i_index]\n"
   ]
  },
  {
   "cell_type": "code",
   "execution_count": 4,
   "id": "28edb270",
   "metadata": {},
   "outputs": [
    {
     "name": "stdout",
     "output_type": "stream",
     "text": [
      "Silhouette coefficient: 0.759\n"
     ]
    }
   ],
   "source": [
    "db = DBSCAN(eps=epsilon, min_samples=min_point, algorithm='ball_tree', metric='haversine').fit(np.radians(coords))\n",
    "cluster_labels = db.labels_\n",
    "\n",
    "# get the number of clusters\n",
    "num_clusters = len(set(cluster_labels))\n",
    "print('Silhouette coefficient: {:0.03f}'.format(metrics.silhouette_score(coords, cluster_labels)))"
   ]
  },
  {
   "cell_type": "code",
   "execution_count": 5,
   "id": "41408d36",
   "metadata": {},
   "outputs": [],
   "source": [
    "# turn the clusters in to a pandas series, where each element is a cluster of points\n",
    "clusters = pd.Series([coords[cluster_labels==n] for n in range(num_clusters-1)])\n",
    "def get_centermost_point(cluster):\n",
    "    centroid = (MultiPoint(cluster).centroid.x, MultiPoint(cluster).centroid.y)\n",
    "    centermost_point = min(cluster, key=lambda point: great_circle(point, centroid).m)\n",
    "    (freq,s) = cluster.shape\n",
    "    frequency = list([freq])\n",
    "    val = list(centermost_point)\n",
    "    val += frequency\n",
    "    return tuple(val)\n",
    "\n",
    "centermost_points = clusters.map(get_centermost_point)"
   ]
  },
  {
   "cell_type": "code",
   "execution_count": 6,
   "id": "da5a33a4",
   "metadata": {},
   "outputs": [],
   "source": [
    "# unzip the list of centermost points (lat, lon) tuples into separate lat and lon lists\n",
    "Latitude, Longitude, Freq = zip(*centermost_points)\n",
    "# from these lats/lons create a new df of one representative point for each cluster\n",
    "rep_points = pd.DataFrame({'Latitude':Latitude, 'Longitude':Longitude,'Frequency of occurence':Freq})\n",
    "# pull row from original data set where lat/lon match the lat/lon of each row of representative points\n",
    "# that way we get the full details like city, country, and date from the original dataframe\n",
    "rs = rep_points.apply(lambda row: df[(df['Latitude']==row['Latitude']) & (df['Longitude']==row['Longitude'])].iloc[0], axis=1)\n",
    "rs_freq = rep_points.loc[:,['Frequency of occurence']]"
   ]
  },
  {
   "cell_type": "code",
   "execution_count": 7,
   "id": "19c7d44e",
   "metadata": {},
   "outputs": [
    {
     "data": {
      "image/png": "[encoded data removed]",
      "text/plain": [
       "<Figure size 720x432 with 1 Axes>"
      ]
     },
     "metadata": {
      "needs_background": "light"
     },
     "output_type": "display_data"
    }
   ],
   "source": [
    "# plot the final reduced set of coordinate points vs the original full set\n",
    "fig, ax = plt.subplots(figsize=[10, 6])\n",
    "#rs_scatter = ax.scatter(rs['Longitude'], rs['Latitude'], c='#99cc99', edgecolor='None', alpha=0.7, s=120)\n",
    "rep_scatter = ax.scatter(rep_points['Longitude'], rep_points['Latitude'], c='#99cc99', edgecolor='None', alpha=0.7, s=120)\n",
    "df_scatter = ax.scatter(df['Longitude'], df['Latitude'], c='k', alpha=0.9, s=3)\n",
    "#ax.set_title('Full data set vs DBSCAN reduced set')\n",
    "ax.set_xlabel('Longitude')\n",
    "ax.set_ylabel('Latitude')\n",
    "ax.legend([df_scatter, rep_scatter], ['GPS points', 'Cluster centers'], loc='upper right')\n",
    "plt.show()"
   ]
  },
  {
   "cell_type": "code",
   "execution_count": 8,
   "id": "89c9a7f4",
   "metadata": {},
   "outputs": [
    {
     "name": "stdout",
     "output_type": "stream",
     "text": [
      "2\n"
     ]
    }
   ],
   "source": [
    "print(num_clusters)"
   ]
  },
  {
   "cell_type": "code",
   "execution_count": 9,
   "id": "5d82ea2d",
   "metadata": {},
   "outputs": [
    {
     "name": "stdout",
     "output_type": "stream",
     "text": [
      "6.2031075271672735\n"
     ]
    }
   ],
   "source": [
    "print(davies_bouldin_score(coords, cluster_labels))"
   ]
  },
  {
   "cell_type": "markdown",
   "id": "ac04e073",
   "metadata": {},
   "source": [
    "### Calculation of Entropy after each recorded GPS point"
   ]
  },
  {
   "cell_type": "code",
   "execution_count": 10,
   "id": "88137b12",
   "metadata": {},
   "outputs": [],
   "source": [
    "def calculate_entropy(freq):\n",
    "    Probabilities = []\n",
    "    sum_of_all_freq=0\n",
    "    for ele in range(0, len(freq)):\n",
    "        sum_of_all_freq = sum_of_all_freq + freq[ele]\n",
    "    max_size = len(freq)\n",
    "    for i in range(max_size):\n",
    "      Prob = freq[i]/sum_of_all_freq\n",
    "      Probabilities.append(Prob)\n",
    "    entropy_of_loc = -np.sum(Probabilities*np.log2(Probabilities))\n",
    "    return entropy_of_loc"
   ]
  },
  {
   "cell_type": "code",
   "execution_count": 11,
   "id": "23fa86fc",
   "metadata": {},
   "outputs": [],
   "source": [
    "df2 = pd.read_csv('user_301_latlontime.csv', encoding='utf-8')\n",
    "#df2 = df2.iloc[: , 1:]\n",
    "coords = df2[['Latitude', 'Longitude']].to_numpy()\n",
    "lats_xy = coords[:,0]\n",
    "longs_xy = coords[:,1]\n",
    "user_time = df2['Time'].values.tolist()"
   ]
  },
  {
   "cell_type": "code",
   "execution_count": 12,
   "id": "587950a8",
   "metadata": {},
   "outputs": [],
   "source": [
    "#Finding minimum and maximum points from user data\n",
    "lats_index_min = np.argmin(lats_xy)\n",
    "lats_index_max = np.argmax(lats_xy)\n",
    "longs_index_min = np.argmin(longs_xy)\n",
    "longs_index_max = np.argmax(longs_xy)\n",
    "\n",
    "#Defining the boundary points\n",
    "p1_xy = (longs_xy[longs_index_min],lats_xy[lats_index_min])\n",
    "p2_xy = (longs_xy[longs_index_min],lats_xy[lats_index_max])\n",
    "p3_xy = (longs_xy[longs_index_max],lats_xy[lats_index_min])\n",
    "p4_xy = (longs_xy[longs_index_max],lats_xy[lats_index_max])"
   ]
  },
  {
   "cell_type": "markdown",
   "id": "496c1aee",
   "metadata": {},
   "source": [
    "### Mapping of points in a 3D space-time grid and calculate entropy after addition of each new point"
   ]
  },
  {
   "cell_type": "code",
   "execution_count": 13,
   "id": "b9534d56",
   "metadata": {},
   "outputs": [],
   "source": [
    "X = np.linspace((longs_xy[longs_index_min]),(longs_xy[longs_index_max]),10)\n",
    "Y = np.linspace((lats_xy[lats_index_min]),(lats_xy[lats_index_max]), 10)\n",
    "Z = np.linspace(0,24,24)\n",
    "d=1\n",
    "grids_index = np.zeros((10,10,24))\n",
    "point_count_inside_grid = np.zeros((1,2400))\n",
    "counting = np.zeros((1,2400))\n",
    "found_grid_index = []\n",
    "allover_entropy=[]\n",
    "\n",
    "for t in range(24):\n",
    "    for yax in range(10):\n",
    "        for xax in range(10):\n",
    "            grids_index[xax,yax,t]=d\n",
    "            d=d+1\n",
    "            \n",
    "\n",
    "for user in range(len(coords)):\n",
    "    p_lat = lats_xy[user]\n",
    "    p_long = longs_xy[user]\n",
    "    p_time = user_time[user]\n",
    "    for t in range(24):\n",
    "        if ((p_time>Z[t] and p_time<Z[t+1]) or (p_time==Z[t]) or (p_time==0)):\n",
    "            for yax in range(10):\n",
    "                if (((p_lat>Y[yax]) and (p_lat<Y[yax+1])) or (p_lat==Y[yax])):\n",
    "                    for xax in range(10):\n",
    "                        if (((p_long>X[xax]) and (p_long<X[xax+1])) or (p_long==X[xax])):\n",
    "                            found_at = grids_index[xax,yax,t]\n",
    "                            found_grid_index.append(int(found_at))\n",
    "    frequency_of_grids = [len(list(group)) for key, group in groupby(found_grid_index)]\n",
    "    current_entropy = calculate_entropy(frequency_of_grids)\n",
    "    allover_entropy.append(current_entropy)"
   ]
  },
  {
   "cell_type": "markdown",
   "id": "a7da86d5",
   "metadata": {},
   "source": [
    "### Normalizing the data points"
   ]
  },
  {
   "cell_type": "code",
   "execution_count": 14,
   "id": "7ab9d135",
   "metadata": {},
   "outputs": [],
   "source": [
    "scaler = MinMaxScaler()\n",
    "model=scaler.fit(df2)\n",
    "scaled_data=model.transform(df2)\n",
    "normalized_data = pd.DataFrame(scaled_data, columns = ['Latitude','Longitude','Time'])"
   ]
  },
  {
   "cell_type": "markdown",
   "id": "ce08e62f",
   "metadata": {},
   "source": [
    "### Find points that can be transmitted directly"
   ]
  },
  {
   "cell_type": "code",
   "execution_count": 15,
   "id": "8c95625c",
   "metadata": {},
   "outputs": [],
   "source": [
    "max_limit = (0.1/100)*len(coords)\n",
    "delta_1 = 0.05\n",
    "new_data = []\n",
    "scaled_points = []\n",
    "for temp in range(len(allover_entropy)-1):\n",
    "    if allover_entropy[temp] != 0:\n",
    "        percent_change = ((allover_entropy[temp+1]-allover_entropy[temp])/allover_entropy[temp])*100\n",
    "        if percent_change > delta_1:\n",
    "            new_data.append(df.iloc[temp].tolist())\n",
    "            #scaled_points.append(scaled_data[temp].tolist())"
   ]
  },
  {
   "cell_type": "code",
   "execution_count": 16,
   "id": "d1c1163a",
   "metadata": {},
   "outputs": [],
   "source": [
    "new_df = pd.DataFrame(new_data, columns = ['Latitude','Longitude','Time'])\n",
    "new_coords = new_df[['Latitude', 'Longitude']].to_numpy()"
   ]
  },
  {
   "cell_type": "code",
   "execution_count": 17,
   "id": "fa575282",
   "metadata": {},
   "outputs": [
    {
     "name": "stdout",
     "output_type": "stream",
     "text": [
      "367\n"
     ]
    }
   ],
   "source": [
    "print(len(new_coords))"
   ]
  },
  {
   "cell_type": "markdown",
   "id": "c6bb5e1c",
   "metadata": {},
   "source": [
    "### Clustering of directly transmitted data points"
   ]
  },
  {
   "cell_type": "code",
   "execution_count": 18,
   "id": "fd31ae33",
   "metadata": {},
   "outputs": [],
   "source": [
    "# To find minPoints using merge-sort algorithm\n",
    "l=1\n",
    "r=len(new_coords)\n",
    "v=[]\n",
    "w=[]\n",
    "def divide(l, r):\n",
    "    if l<r:\n",
    "        m = l+(r-l)//2\n",
    "        try:\n",
    "            sil_score, num_clusters = cal(m, epsilon)\n",
    "            if sil_score not in v and num_clusters>0:\n",
    "                v.append(sil_score)\n",
    "                w.append(m)\n",
    "                divide(l, m)\n",
    "        except ValueError:\n",
    "            divide(l, m)\n",
    "    else:\n",
    "        return\n",
    "def cal(m,epsilon):\n",
    "    db = DBSCAN(eps=epsilon, min_samples=m, algorithm='ball_tree', metric='haversine').fit(np.radians(new_coords))\n",
    "    sil_score = metrics.silhouette_score(new_coords, db.labels_)\n",
    "    num_clusters = len(set(db.labels_)) #- (1 if -1 in db.labels_ else 0)\n",
    "    return [sil_score, num_clusters]\n",
    "divide(l,r)\n",
    "max_i = max(v)\n",
    "max_i_index = v.index(max_i)\n",
    "min_point = w[max_i_index]\n"
   ]
  },
  {
   "cell_type": "code",
   "execution_count": 19,
   "id": "fee2bc40",
   "metadata": {},
   "outputs": [
    {
     "name": "stdout",
     "output_type": "stream",
     "text": [
      "Silhouette coefficient: 0.758\n"
     ]
    }
   ],
   "source": [
    "db = DBSCAN(eps=epsilon, min_samples=min_point, algorithm='ball_tree', metric='haversine').fit(np.radians(new_coords))\n",
    "cluster_labels = db.labels_\n",
    "\n",
    "# get the number of clusters\n",
    "num_clusters = len(set(cluster_labels))\n",
    "print('Silhouette coefficient: {:0.03f}'.format(metrics.silhouette_score(new_coords, cluster_labels)))"
   ]
  },
  {
   "cell_type": "code",
   "execution_count": 20,
   "id": "428d422d",
   "metadata": {},
   "outputs": [
    {
     "name": "stdout",
     "output_type": "stream",
     "text": [
      "2\n"
     ]
    }
   ],
   "source": [
    "print(num_clusters)"
   ]
  },
  {
   "cell_type": "code",
   "execution_count": 21,
   "id": "5eaf07f6",
   "metadata": {},
   "outputs": [],
   "source": [
    "# turn the clusters in to a pandas series, where each element is a cluster of points\n",
    "clusters = pd.Series([new_coords[cluster_labels==n] for n in range(num_clusters-1)])\n",
    "def get_centermost_point(cluster):\n",
    "    centroid = (MultiPoint(cluster).centroid.x, MultiPoint(cluster).centroid.y)\n",
    "    centermost_point = min(cluster, key=lambda point: great_circle(point, centroid).m)\n",
    "    (freq,s) = cluster.shape\n",
    "    frequency = list([freq])\n",
    "    val = list(centermost_point)\n",
    "    val += frequency\n",
    "    return tuple(val)\n",
    "\n",
    "centermost_points = clusters.map(get_centermost_point)"
   ]
  },
  {
   "cell_type": "code",
   "execution_count": 22,
   "id": "cfc2ad74",
   "metadata": {},
   "outputs": [],
   "source": [
    "# unzip the list of centermost points (lat, lon) tuples into separate lat and lon lists\n",
    "Latitude, Longitude, Freq = zip(*centermost_points)\n",
    "# from these lats/lons create a new df of one representative point for each cluster\n",
    "rep_points = pd.DataFrame({'Latitude':Latitude, 'Longitude':Longitude,'Frequency of occurence':Freq})\n",
    "# pull row from original data set where lat/lon match the lat/lon of each row of representative points\n",
    "# that way we get the full details like city, country, and date from the original dataframe\n",
    "rs = rep_points.apply(lambda row: new_df[(new_df['Latitude']==row['Latitude']) & (new_df['Longitude']==row['Longitude'])].iloc[0], axis=1)\n",
    "rs_freq = rep_points.loc[:,['Frequency of occurence']]"
   ]
  },
  {
   "cell_type": "code",
   "execution_count": 23,
   "id": "d9787858",
   "metadata": {},
   "outputs": [
    {
     "data": {
      "image/png": "[encoded data removed]",
      "text/plain": [
       "<Figure size 720x432 with 1 Axes>"
      ]
     },
     "metadata": {
      "needs_background": "light"
     },
     "output_type": "display_data"
    }
   ],
   "source": [
    "# plot the final reduced set of coordinate points vs the original full set\n",
    "fig, ax = plt.subplots(figsize=[10, 6])\n",
    "#rs_scatter = ax.scatter(rs['Longitude'], rs['Latitude'], c='#99cc99', edgecolor='None', alpha=0.7, s=120)\n",
    "rep_scatter = ax.scatter(rep_points['Longitude'], rep_points['Latitude'], c='#99cc99', edgecolor='None', alpha=0.7, s=120)\n",
    "df_scatter = ax.scatter(new_df['Longitude'], new_df['Latitude'], c='k', alpha=0.9, s=3)\n",
    "#ax.set_title('Full data set vs DBSCAN reduced set')\n",
    "ax.set_xlabel('Longitude')\n",
    "ax.set_ylabel('Latitude')\n",
    "ax.legend([df_scatter, rep_scatter], ['GPS points', 'Cluster centers'], loc='upper right')\n",
    "plt.show()"
   ]
  },
  {
   "cell_type": "code",
   "execution_count": 24,
   "id": "a66be27b",
   "metadata": {},
   "outputs": [
    {
     "name": "stdout",
     "output_type": "stream",
     "text": [
      "1.357114454057347\n"
     ]
    }
   ],
   "source": [
    "print(davies_bouldin_score(new_coords, cluster_labels))"
   ]
  },
  {
   "cell_type": "code",
   "execution_count": null,
   "id": "1263b4ab",
   "metadata": {},
   "outputs": [],
   "source": []
  }
 ],
 "metadata": {
  "kernelspec": {
   "display_name": "Python 3 (ipykernel)",
   "language": "python",
   "name": "python3"
  },
  "language_info": {
   "codemirror_mode": {
    "name": "ipython",
    "version": 3
   },
   "file_extension": ".py",
   "mimetype": "text/x-python",
   "name": "python",
   "nbconvert_exporter": "python",
   "pygments_lexer": "ipython3",
   "version": "3.9.12"
  }
 },
 "nbformat": 4,
 "nbformat_minor": 5
}

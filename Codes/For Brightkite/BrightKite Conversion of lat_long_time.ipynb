{
 "cells": [
  {
   "cell_type": "code",
   "execution_count": 1,
   "id": "318f0334",
   "metadata": {},
   "outputs": [],
   "source": [
    "import pandas as pd, numpy as np, matplotlib.pyplot as plt\n",
    "import utm\n",
    "import matplotlib.ticker as ticker\n",
    "from itertools import groupby\n",
    "import os, os.path\n",
    "import seaborn as sns\n",
    "from datetime import datetime\n",
    "from sklearn.cluster import DBSCAN\n",
    "from sklearn import metrics\n",
    "from sklearn import preprocessing\n",
    "import plotly.express as px\n",
    "from sklearn.preprocessing import MinMaxScaler\n",
    "from sklearn.metrics import davies_bouldin_score"
   ]
  },
  {
   "cell_type": "code",
   "execution_count": null,
   "id": "66766f2a",
   "metadata": {},
   "outputs": [],
   "source": [
    "def convert_long_lat_to_XY(input_lon,input_lat):\n",
    "  x, y, zone, ut = utm.from_latlon(input_lat, input_lon)\n",
    "  return x,y\n",
    "#To convert time into seconds\n",
    "def get_sec(time_str):\n",
    "    \"\"\"Get Seconds from time.\"\"\"\n",
    "    h, m, s = time_str.split(':')\n",
    "    return int(h) * 3600 + int(m) * 60 + int(s)"
   ]
  },
  {
   "cell_type": "code",
   "execution_count": 18,
   "id": "f3672bb3",
   "metadata": {},
   "outputs": [],
   "source": [
    "directory_path = 'BrightKite_converted/'\n",
    "file_list = os.listdir(directory_path)"
   ]
  },
  {
   "cell_type": "code",
   "execution_count": 19,
   "id": "b9f087f7",
   "metadata": {},
   "outputs": [],
   "source": [
    "min_lat = []\n",
    "max_lat = []\n",
    "min_long = []\n",
    "max_long = []\n",
    "for file_name in file_list:\n",
    "    df = pd.read_csv('BrightKite_converted/'+file_name, encoding='utf-8')\n",
    "    coords = df[['Latitude', 'Longitude']].to_numpy()\n",
    "    lats_xy = coords[:,0]\n",
    "    longs_xy = coords[:,1]\n",
    "    #Finding minimum and maximum points from user data\n",
    "    lats_index_min = np.argmin(lats_xy)\n",
    "    lats_index_max = np.argmax(lats_xy)\n",
    "    longs_index_min = np.argmin(longs_xy)\n",
    "    longs_index_max = np.argmax(longs_xy)\n",
    "    \n",
    "    min_lat.append(lats_xy[lats_index_min])\n",
    "    max_lat.append(lats_xy[lats_index_max])\n",
    "    min_long.append(longs_xy[longs_index_min])\n",
    "    max_long.append(longs_xy[longs_index_max])\n",
    "    \n",
    "minimum_lat = min(min_lat)\n",
    "maximum_lat = max(max_lat)\n",
    "minimum_long = min(min_long)\n",
    "maximum_long = max(max_long)"
   ]
  },
  {
   "cell_type": "code",
   "execution_count": 20,
   "id": "f51eae4b",
   "metadata": {},
   "outputs": [
    {
     "name": "stdout",
     "output_type": "stream",
     "text": [
      "Min Latitude:  0.0\n",
      "Max latitude:  9999985.500660034\n",
      "Min Longitude:  166021.4431793313\n",
      "Max longitude:  831916.7581531521\n"
     ]
    }
   ],
   "source": [
    "print('Min Latitude: ',minimum_lat)\n",
    "print('Max latitude: ',maximum_lat)\n",
    "print('Min Longitude: ',minimum_long)\n",
    "print('Max longitude: ',maximum_long)"
   ]
  },
  {
   "cell_type": "code",
   "execution_count": null,
   "id": "76921457",
   "metadata": {},
   "outputs": [],
   "source": [
    "for file_name in file_list:\n",
    "    df = pd.read_csv('Brightkite/'+file_name, encoding='utf-8')\n",
    "    df = df.iloc[:,2:]\n",
    "    df = df.drop(columns='Date')\n",
    "    coords = df[['Latitude', 'Longitude']].to_numpy()\n",
    "    time_user = df[['Time']].to_numpy()\n",
    "    try:\n",
    "        si = time_user.shape\n",
    "        time_size = si[0]\n",
    "        a = time_user.astype(str)\n",
    "\n",
    "        #To store time in hours\n",
    "        time_conv = []\n",
    "        for i in range(time_size):\n",
    "            new = np.array_str(a[i])\n",
    "            s1 = new.replace('[','')\n",
    "            s2 = s1.replace(']','')\n",
    "            s3 = s2[1:]\n",
    "            s4 = s3[:-1]\n",
    "            con = get_sec(s4)\n",
    "            time_conv.append(con)\n",
    "        user_time_sec = np.array(time_conv)\n",
    "        user_time_hour = user_time_sec/3600\n",
    "\n",
    "        lats = coords[:,0]\n",
    "        longs = coords[:,1]\n",
    "        size1 = lats.shape\n",
    "        size_coords = size1[0]\n",
    "        coords_XY = []\n",
    "        for i in range(size_coords):\n",
    "            p_xy = convert_long_lat_to_XY(longs[i],lats[i])\n",
    "            coords_XY.append(p_xy)\n",
    "        coords_conv_xy = np.array(coords_XY)\n",
    "        lats_xy = coords_conv_xy[:,1]\n",
    "        longs_xy = coords_conv_xy[:,0]\n",
    "\n",
    "        df_new = pd.DataFrame({'Latitude': lats_xy, 'Longitude': longs_xy, 'Time': user_time_hour})\n",
    "        file_path = (\"BrightKite_converted/\"+file_name)\n",
    "\n",
    "        df_new.to_csv(file_path, index=False)\n",
    "        \n",
    "        pass\n",
    "    except Exception as e:\n",
    "        continue"
   ]
  },
  {
   "cell_type": "code",
   "execution_count": null,
   "id": "83383387",
   "metadata": {},
   "outputs": [],
   "source": []
  },
  {
   "cell_type": "code",
   "execution_count": 2,
   "id": "cda06d75",
   "metadata": {},
   "outputs": [],
   "source": [
    "directory_path = \"BrightKite_converted/\"\n",
    "\n",
    "file_list = [file for file in os.listdir(directory_path) if file.endswith('.csv')]\n",
    "\n",
    "lengths = []"
   ]
  },
  {
   "cell_type": "code",
   "execution_count": 11,
   "id": "f4c5672a",
   "metadata": {},
   "outputs": [
    {
     "name": "stdout",
     "output_type": "stream",
     "text": [
      "Small category users:  50295\n",
      "Moderate category users:  1093\n",
      "Large category users:  0\n",
      "Enormous category users:  0\n"
     ]
    }
   ],
   "source": [
    "small = 0\n",
    "moderate = 0\n",
    "large = 0\n",
    "enormous = 0\n",
    "mod_files = []\n",
    "small_files = []\n",
    "for file_name in file_list:\n",
    "    df = pd.read_csv(os.path.join(directory_path, file_name))\n",
    "    length = len(df)\n",
    "    \n",
    "    if length < 1000:\n",
    "        small += 1\n",
    "        if small < 1000 and length>500:\n",
    "            small_files.append(file_name)\n",
    "        \n",
    "    elif length > 1000 and length <10000:\n",
    "        moderate += 1\n",
    "        \n",
    "    elif length >10000 and length<100000:\n",
    "        large += 1\n",
    "        \n",
    "    else:\n",
    "        enormous += 1\n",
    "    \n",
    "    lengths.append(length)\n",
    "    \n",
    "print('Small category users: ',small)\n",
    "print('Moderate category users: ',moderate)\n",
    "print('Large category users: ',large)\n",
    "print('Enormous category users: ',enormous)"
   ]
  },
  {
   "cell_type": "code",
   "execution_count": 6,
   "id": "04b44dfc",
   "metadata": {},
   "outputs": [],
   "source": [
    "with open('my_list.txt', 'w') as f:\n",
    "    for item in mod_files:\n",
    "        f.write('%s\\n' % item)"
   ]
  },
  {
   "cell_type": "code",
   "execution_count": 16,
   "id": "006ea213",
   "metadata": {},
   "outputs": [],
   "source": [
    "df10 = pd.read_csv('BrightKite/user_10025.csv', encoding='utf-8')\n",
    "df10 = df10.iloc[:,2:]\n",
    "df10 = df10.drop(columns='Date')\n",
    "df10.to_csv('User_10025', index=False)"
   ]
  },
  {
   "cell_type": "code",
   "execution_count": null,
   "id": "02011ea4",
   "metadata": {},
   "outputs": [],
   "source": []
  }
 ],
 "metadata": {
  "kernelspec": {
   "display_name": "Python 3 (ipykernel)",
   "language": "python",
   "name": "python3"
  },
  "language_info": {
   "codemirror_mode": {
    "name": "ipython",
    "version": 3
   },
   "file_extension": ".py",
   "mimetype": "text/x-python",
   "name": "python",
   "nbconvert_exporter": "python",
   "pygments_lexer": "ipython3",
   "version": "3.9.12"
  }
 },
 "nbformat": 4,
 "nbformat_minor": 5
}

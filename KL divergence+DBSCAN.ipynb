{
 "cells": [
  {
   "cell_type": "code",
   "execution_count": 1,
   "id": "fe05e3b6",
   "metadata": {},
   "outputs": [],
   "source": [
    "import pandas as pd, numpy as np, matplotlib.pyplot as plt\n",
    "import utm\n",
    "import matplotlib.ticker as ticker\n",
    "from itertools import groupby\n",
    "import os, os.path\n",
    "import seaborn as sns\n",
    "from datetime import datetime\n",
    "from sklearn.cluster import DBSCAN\n",
    "from sklearn import metrics\n",
    "from sklearn import preprocessing\n",
    "import plotly.express as px\n",
    "from sklearn.preprocessing import MinMaxScaler\n",
    "from scipy.special import rel_entr\n",
    "from scipy.special import kl_div\n",
    "from sklearn.metrics import davies_bouldin_score"
   ]
  },
  {
   "cell_type": "code",
   "execution_count": 2,
   "id": "b6074674",
   "metadata": {},
   "outputs": [
    {
     "data": {
      "text/html": [
       "<div>\n",
       "<style scoped>\n",
       "    .dataframe tbody tr th:only-of-type {\n",
       "        vertical-align: middle;\n",
       "    }\n",
       "\n",
       "    .dataframe tbody tr th {\n",
       "        vertical-align: top;\n",
       "    }\n",
       "\n",
       "    .dataframe thead th {\n",
       "        text-align: right;\n",
       "    }\n",
       "</style>\n",
       "<table border=\"1\" class=\"dataframe\">\n",
       "  <thead>\n",
       "    <tr style=\"text-align: right;\">\n",
       "      <th></th>\n",
       "      <th>Latitude</th>\n",
       "      <th>Longitude</th>\n",
       "      <th>Time</th>\n",
       "    </tr>\n",
       "  </thead>\n",
       "  <tbody>\n",
       "    <tr>\n",
       "      <th>0</th>\n",
       "      <td>4.419201e+06</td>\n",
       "      <td>454907.843761</td>\n",
       "      <td>3.509167</td>\n",
       "    </tr>\n",
       "    <tr>\n",
       "      <th>1</th>\n",
       "      <td>4.419199e+06</td>\n",
       "      <td>454908.008117</td>\n",
       "      <td>3.509444</td>\n",
       "    </tr>\n",
       "    <tr>\n",
       "      <th>2</th>\n",
       "      <td>4.419198e+06</td>\n",
       "      <td>454907.743872</td>\n",
       "      <td>3.509722</td>\n",
       "    </tr>\n",
       "    <tr>\n",
       "      <th>3</th>\n",
       "      <td>4.419197e+06</td>\n",
       "      <td>454907.736657</td>\n",
       "      <td>3.510000</td>\n",
       "    </tr>\n",
       "    <tr>\n",
       "      <th>4</th>\n",
       "      <td>4.419187e+06</td>\n",
       "      <td>454905.370912</td>\n",
       "      <td>3.510556</td>\n",
       "    </tr>\n",
       "  </tbody>\n",
       "</table>\n",
       "</div>"
      ],
      "text/plain": [
       "       Latitude      Longitude      Time\n",
       "0  4.419201e+06  454907.843761  3.509167\n",
       "1  4.419199e+06  454908.008117  3.509444\n",
       "2  4.419198e+06  454907.743872  3.509722\n",
       "3  4.419197e+06  454907.736657  3.510000\n",
       "4  4.419187e+06  454905.370912  3.510556"
      ]
     },
     "execution_count": 2,
     "metadata": {},
     "output_type": "execute_result"
    }
   ],
   "source": [
    "# load the data set\n",
    "df = pd.read_csv('User_010_latlontime.csv', encoding='utf-8')\n",
    "df = df.iloc[: , 1:]\n",
    "df.head()"
   ]
  },
  {
   "cell_type": "code",
   "execution_count": 3,
   "id": "881a029b",
   "metadata": {},
   "outputs": [],
   "source": [
    "coords = df[['Latitude', 'Longitude']].to_numpy()\n",
    "lats_xy = coords[:,0]\n",
    "longs_xy = coords[:,1]\n",
    "user_time = df['Time'].values.tolist()"
   ]
  },
  {
   "cell_type": "code",
   "execution_count": 4,
   "id": "3d8eb710",
   "metadata": {},
   "outputs": [
    {
     "name": "stdout",
     "output_type": "stream",
     "text": [
      "Total points:  935415\n"
     ]
    }
   ],
   "source": [
    "print('Total points: ', len(lats_xy))"
   ]
  },
  {
   "cell_type": "code",
   "execution_count": 5,
   "id": "3f65116e",
   "metadata": {},
   "outputs": [],
   "source": [
    "#Finding minimum and maximum points from user data\n",
    "lats_index_min = np.argmin(lats_xy)\n",
    "lats_index_max = np.argmax(lats_xy)\n",
    "longs_index_min = np.argmin(longs_xy)\n",
    "longs_index_max = np.argmax(longs_xy)\n",
    "\n",
    "#Defining the boundary points\n",
    "p1_xy = (longs_xy[longs_index_min],lats_xy[lats_index_min])\n",
    "p2_xy = (longs_xy[longs_index_min],lats_xy[lats_index_max])\n",
    "p3_xy = (longs_xy[longs_index_max],lats_xy[lats_index_min])\n",
    "p4_xy = (longs_xy[longs_index_max],lats_xy[lats_index_max])"
   ]
  },
  {
   "cell_type": "code",
   "execution_count": 6,
   "id": "48c98fbc",
   "metadata": {},
   "outputs": [],
   "source": [
    "#Initialize values to partition along number of grids n each axis\n",
    "x=10\n",
    "y=10\n",
    "z=24"
   ]
  },
  {
   "cell_type": "markdown",
   "id": "7dd3269c",
   "metadata": {},
   "source": [
    "### Mapping of points in a 3D space-time grid and calculate distance using KL-divergence after addition of each new point"
   ]
  },
  {
   "cell_type": "code",
   "execution_count": 7,
   "id": "bfc775b6",
   "metadata": {},
   "outputs": [],
   "source": [
    "X = np.linspace((longs_xy[longs_index_min]),(longs_xy[longs_index_max]),x)\n",
    "Y = np.linspace((lats_xy[lats_index_min]),(lats_xy[lats_index_max]), y)\n",
    "Z = np.linspace(0,z,z)\n",
    "\n",
    "grids_index = np.zeros((x,y,z))\n",
    "point_count_inside_grid = np.zeros((1,x*y*z))\n",
    "flat_hist = np.ones((1,x*y*z))\n",
    "d=1\n",
    "kl_pq = np.zeros((1,len(coords)))\n",
    "\n",
    "for t in range(z):\n",
    "    for yax in range(y):\n",
    "        for xax in range(x):\n",
    "            grids_index[xax,yax,t]=d\n",
    "            d=d+1\n",
    "\n",
    "for counter in range(len(coords)):\n",
    "    p_lat = lats_xy[counter]\n",
    "    p_long = longs_xy[counter]\n",
    "    p_time = user_time[counter]\n",
    "    for t in range(z):\n",
    "        if ((p_time>Z[t] and p_time<Z[t+1]) or (p_time==Z[t]) or (p_time==0)):\n",
    "            for yax in range(y):\n",
    "                if (((p_lat>Y[yax]) and (p_lat<Y[yax+1])) or (p_lat==Y[yax])):\n",
    "                    for xax in range(x):\n",
    "                        if (((p_long>X[xax]) and (p_long<X[xax+1])) or (p_long==X[xax])):\n",
    "                            found_at = grids_index[xax,yax,t]\n",
    "                            point_count_inside_grid[:,int(found_at)] += 1\n",
    "                            normalizedData = (point_count_inside_grid-np.min(point_count_inside_grid))/(np.max(point_count_inside_grid)-np.min(point_count_inside_grid))\n",
    "                            #distance = sum(rel_entr(normalizedData, flat_hist)[0,:])\n",
    "                            distance = sum(kl_div(normalizedData[0,:], flat_hist[0,:]))\n",
    "                            #kl_pq[:,counter] = abs(distance)\n",
    "                            kl_pq[:,counter] = distance"
   ]
  },
  {
   "cell_type": "markdown",
   "id": "39788e5b",
   "metadata": {},
   "source": [
    "### Normalizing the data points"
   ]
  },
  {
   "cell_type": "code",
   "execution_count": 8,
   "id": "696db093",
   "metadata": {},
   "outputs": [],
   "source": [
    "scaler = MinMaxScaler()\n",
    "model=scaler.fit(df)\n",
    "scaled_data=model.transform(df)\n",
    "normalized_data = pd.DataFrame(scaled_data, columns = ['Latitude','Longitude','Time'])"
   ]
  },
  {
   "cell_type": "markdown",
   "id": "fb462b39",
   "metadata": {},
   "source": [
    "### Plot raw normalized data points"
   ]
  },
  {
   "cell_type": "code",
   "execution_count": null,
   "id": "b0cdc949",
   "metadata": {},
   "outputs": [],
   "source": [
    "fig = plt.figure(figsize = (8,8))\n",
    "ax = plt.axes(projection =\"3d\")\n",
    "scatter = ax.scatter3D(normalized_data['Longitude'], normalized_data['Latitude'], normalized_data['Time'],color='blue',alpha=0.9, s=50)\n",
    "plt.xlim(0,1)\n",
    "plt.ylim(0,1)\n",
    "ax.set_zlim(0,1)\n",
    "ax.set_xlabel('Longitude')\n",
    "ax.set_ylabel('Latitude')\n",
    "ax.set_zlabel('Time')\n",
    "plt.show()"
   ]
  },
  {
   "cell_type": "code",
   "execution_count": 9,
   "id": "26e283a9",
   "metadata": {},
   "outputs": [],
   "source": [
    "min_pts = (0.5/100)*len(lats_xy)\n",
    "#min_pts = 800\n",
    "epsilon = 0.1\n",
    "threshold = 0.05"
   ]
  },
  {
   "cell_type": "markdown",
   "id": "4546bd06",
   "metadata": {},
   "source": [
    "### Clustering of raw normalized data"
   ]
  },
  {
   "cell_type": "code",
   "execution_count": null,
   "id": "9525031f",
   "metadata": {},
   "outputs": [],
   "source": [
    "db = DBSCAN(eps=epsilon, min_samples=min_pts, algorithm='ball_tree', metric='euclidean').fit(normalized_data)\n",
    "to_plot=normalized_data\n",
    "to_plot.loc[:,'Label']=db.labels_\n",
    "noise_points = to_plot[to_plot.Label==-1]\n",
    "to_plot=to_plot[to_plot.Label!=-1]\n",
    "#Plot clustered points\n",
    "fig = plt.figure(figsize = (8,8))\n",
    "ax = plt.axes(projection =\"3d\")\n",
    "scatter = ax.scatter3D(to_plot['Longitude'], to_plot['Latitude'], to_plot['Time'],c=to_plot['Label'],alpha=0.9, s=60)\n",
    "ax.scatter3D(noise_points['Longitude'], noise_points['Latitude'], noise_points['Time'],color='black',alpha=0.9, label='Noise', s=60)\n",
    "plt.xlim(0,1)\n",
    "plt.ylim(0,1)\n",
    "ax.set_zlim(0,1)\n",
    "ax.xaxis.set_tick_params(labelsize=16)\n",
    "ax.yaxis.set_tick_params(labelsize=16)\n",
    "ax.zaxis.set_tick_params(labelsize=16)\n",
    "ax.set_xlabel('Longitude', fontsize=18,labelpad=10)\n",
    "ax.set_ylabel('Latitude', fontsize=18,labelpad=10)\n",
    "ax.set_zlabel('Time', fontsize=18,labelpad=15)\n",
    "#first_legend = ax.legend(*scatter.legend_elements(),loc = \"upper right\", title=\"Clusters\", ncol=4, frameon=True)\n",
    "#plt.gca().add_artist(first_legend)\n",
    "#plt.legend(loc='upper left')\n",
    "plt.show()"
   ]
  },
  {
   "cell_type": "code",
   "execution_count": null,
   "id": "fc00f856",
   "metadata": {},
   "outputs": [],
   "source": [
    "#Computing \"the Silhouette Score\"\n",
    "print(\"Silhouette Coefficient: %0.3f\"\n",
    "      % metrics.silhouette_score(normalized_data, db.labels_))"
   ]
  },
  {
   "cell_type": "code",
   "execution_count": null,
   "id": "c86f78ef",
   "metadata": {},
   "outputs": [],
   "source": [
    "print(davies_bouldin_score(normalized_data, db.labels_))"
   ]
  },
  {
   "cell_type": "code",
   "execution_count": null,
   "id": "f8910cd8",
   "metadata": {},
   "outputs": [],
   "source": [
    "# get the number of clusters\n",
    "num_clusters = len(set(db.labels_))\n",
    "print(num_clusters)"
   ]
  },
  {
   "cell_type": "markdown",
   "id": "f9977d9b",
   "metadata": {},
   "source": [
    "### Find points that can be transmitted directly"
   ]
  },
  {
   "cell_type": "code",
   "execution_count": null,
   "id": "7fcbb70c",
   "metadata": {},
   "outputs": [],
   "source": [
    "max_limit = (threshold/100)*len(coords) \n",
    "new_data = []\n",
    "scaled_points = []\n",
    "for temp in range(kl_pq.size-1):\n",
    "    if kl_pq[:,temp] != 0:\n",
    "        percent_change = ((kl_pq[:,temp+1]-kl_pq[:,temp])/kl_pq[:,temp])*100\n",
    "        if percent_change < 0:\n",
    "            new_data.append(df.iloc[temp].tolist())\n",
    "            scaled_points.append(scaled_data[temp].tolist())"
   ]
  },
  {
   "cell_type": "code",
   "execution_count": null,
   "id": "873ac1c8",
   "metadata": {},
   "outputs": [],
   "source": [
    "new_df = pd.DataFrame(new_data, columns = ['Latitude','Longitude','Time'])\n",
    "normalized_data = pd.DataFrame(scaled_points, columns = ['Latitude','Longitude','Time'])"
   ]
  },
  {
   "cell_type": "code",
   "execution_count": null,
   "id": "8f243155",
   "metadata": {},
   "outputs": [],
   "source": [
    "coords = new_df[['Latitude', 'Longitude']].to_numpy()\n",
    "lats_xy = coords[:,0]\n",
    "longs_xy = coords[:,1]\n",
    "user_time = new_df['Time'].values.tolist()\n",
    "point_count_inside_grid = np.zeros((1,2400))\n",
    "counting = np.zeros((1,2400))\n",
    "found_grid_index = []\n",
    "d=1\n",
    "new_points = []\n",
    "new_scaled_points = []"
   ]
  },
  {
   "cell_type": "code",
   "execution_count": null,
   "id": "559915af",
   "metadata": {},
   "outputs": [],
   "source": [
    "# Store maximum of max_limit % points in a grid\n",
    "for counter in range(len(coords)):\n",
    "    p_lat = lats_xy[counter]\n",
    "    p_long = longs_xy[counter]\n",
    "    p_time = user_time[counter]\n",
    "    for t in range(z):\n",
    "        if ((p_time>Z[t] and p_time<Z[t+1]) or (p_time==Z[t]) or (p_time==0)):\n",
    "            for yax in range(y):\n",
    "                if (((p_lat>Y[yax]) and (p_lat<Y[yax+1])) or (p_lat==Y[yax])):\n",
    "                    for xax in range(x):\n",
    "                        if (((p_long>X[xax]) and (p_long<X[xax+1])) or (p_long==X[xax])):\n",
    "                            found_at = grids_index[xax,yax,t]\n",
    "                            point_count_inside_grid[:,int(found_at)] += 1\n",
    "                            if point_count_inside_grid[:,int(found_at)] <= max_limit:\n",
    "                                new_points.append(new_df.iloc[counter].tolist())\n",
    "                                new_scaled_points.append(normalized_data.iloc[counter].tolist())"
   ]
  },
  {
   "cell_type": "code",
   "execution_count": null,
   "id": "09b2e088",
   "metadata": {},
   "outputs": [],
   "source": [
    "new_df = pd.DataFrame(new_points, columns = ['Latitude','Longitude','Time'])\n",
    "normalized_data = pd.DataFrame(new_scaled_points, columns = ['Latitude','Longitude','Time'])"
   ]
  },
  {
   "cell_type": "markdown",
   "id": "ea2f64e3",
   "metadata": {},
   "source": [
    "### Plot directly transmitted normalized data points"
   ]
  },
  {
   "cell_type": "code",
   "execution_count": null,
   "id": "e48f4a9f",
   "metadata": {},
   "outputs": [],
   "source": [
    "fig = plt.figure(figsize = (8,8))\n",
    "ax = plt.axes(projection =\"3d\")\n",
    "scatter = ax.scatter3D(normalized_data['Longitude'], normalized_data['Latitude'], normalized_data['Time'],color='blue',alpha=0.9, s=60)\n",
    "plt.xlim(0,1)\n",
    "plt.ylim(0,1)\n",
    "ax.set_zlim(0,1)\n",
    "ax.xaxis.set_tick_params(labelsize=16)\n",
    "ax.yaxis.set_tick_params(labelsize=16)\n",
    "ax.zaxis.set_tick_params(labelsize=16)\n",
    "ax.set_xlabel('Longitude', fontsize=18,labelpad=10)\n",
    "ax.set_ylabel('Latitude', fontsize=18,labelpad=10)\n",
    "ax.set_zlabel('Time', fontsize=18,labelpad=15)\n",
    "plt.show()"
   ]
  },
  {
   "cell_type": "markdown",
   "id": "7eb438a1",
   "metadata": {},
   "source": [
    "### Clustering of directly transmitted data points"
   ]
  },
  {
   "cell_type": "code",
   "execution_count": null,
   "id": "dba1ba77",
   "metadata": {},
   "outputs": [],
   "source": [
    "db = DBSCAN(eps=epsilon, min_samples=min_pts, algorithm='ball_tree', metric='euclidean').fit(normalized_data)\n",
    "to_plot=normalized_data\n",
    "to_plot.loc[:,'Label']=db.labels_\n",
    "noise_points = to_plot[to_plot.Label==-1]\n",
    "to_plot=to_plot[to_plot.Label!=-1]\n",
    "#Plot clustered points\n",
    "fig = plt.figure(figsize = (8,8))\n",
    "ax = plt.axes(projection =\"3d\")\n",
    "scatter = ax.scatter3D(to_plot['Longitude'], to_plot['Latitude'], to_plot['Time'],c=to_plot['Label'],alpha=0.9, s=60)\n",
    "ax.scatter3D(noise_points['Longitude'], noise_points['Latitude'], noise_points['Time'],color='black',alpha=0.9, label='Noise', s=60)\n",
    "plt.xlim(0,1)\n",
    "plt.ylim(0,1)\n",
    "ax.set_zlim(0,1)\n",
    "ax.xaxis.set_tick_params(labelsize=16)\n",
    "ax.yaxis.set_tick_params(labelsize=16)\n",
    "ax.zaxis.set_tick_params(labelsize=16)\n",
    "ax.set_xlabel('Longitude', fontsize=18,labelpad=10)\n",
    "ax.set_ylabel('Latitude', fontsize=18,labelpad=10)\n",
    "ax.set_zlabel('Time', fontsize=18,labelpad=15)\n",
    "#first_legend = ax.legend(loc='upper left')\n",
    "#plt.gca().add_artist(first_legend)\n",
    "#plt.legend(*scatter.legend_elements(),loc = \"upper right\", title=\"Clusters\", ncol=5, frameon=True)\n",
    "plt.show()"
   ]
  },
  {
   "cell_type": "code",
   "execution_count": null,
   "id": "d91cf0c8",
   "metadata": {},
   "outputs": [],
   "source": [
    "#Computing \"the Silhouette Score\"\n",
    "print(\"Silhouette Coefficient: %0.3f\"\n",
    "      % metrics.silhouette_score(normalized_data, db.labels_))"
   ]
  },
  {
   "cell_type": "code",
   "execution_count": null,
   "id": "e070d50b",
   "metadata": {},
   "outputs": [],
   "source": [
    "print(davies_bouldin_score(normalized_data, db.labels_))"
   ]
  },
  {
   "cell_type": "code",
   "execution_count": null,
   "id": "6d7da3f3",
   "metadata": {},
   "outputs": [],
   "source": [
    "# get the number of clusters\n",
    "num_clusters = len(set(db.labels_))\n",
    "print(num_clusters)"
   ]
  },
  {
   "cell_type": "code",
   "execution_count": null,
   "id": "8d695a40",
   "metadata": {},
   "outputs": [],
   "source": []
  }
 ],
 "metadata": {
  "kernelspec": {
   "display_name": "Python 3 (ipykernel)",
   "language": "python",
   "name": "python3"
  },
  "language_info": {
   "codemirror_mode": {
    "name": "ipython",
    "version": 3
   },
   "file_extension": ".py",
   "mimetype": "text/x-python",
   "name": "python",
   "nbconvert_exporter": "python",
   "pygments_lexer": "ipython3",
   "version": "3.9.12"
  }
 },
 "nbformat": 4,
 "nbformat_minor": 5
}
